{
 "cells": [
  {
   "cell_type": "code",
   "execution_count": 48,
   "metadata": {},
   "outputs": [
    {
     "name": "stdout",
     "output_type": "stream",
     "text": [
      "--- meat 처리중\n",
      "--- noodle 처리중\n",
      "--- cat 처리중\n",
      "--- flower 처리중\n",
      "end 2001\n"
     ]
    }
   ],
   "source": [
    "from sklearn import model_selection\n",
    "from sklearn.model_selection import train_test_split\n",
    "from PIL import Image\n",
    "import os, glob\n",
    "import numpy as np\n",
    "\n",
    "# categroy - (1)\n",
    "root_dir = \"./image/\"\n",
    "categories = [\"meat\", \"noodle\", \"cat\", \"flower\"]\n",
    "np_classes = len(categories)\n",
    "image_size = 50\n",
    "\n",
    "# read images in folder - (2)\n",
    "X = []\n",
    "Y = []\n",
    "\n",
    "for idx, folder in enumerate(categories):\n",
    "    image_dir = root_dir + \"/\" + folder\n",
    "    files = glob.glob(image_dir + \"/*.jpg\")\n",
    "    print(\"---\", folder, \"처리중\")\n",
    "    for i, f in enumerate(files):\n",
    "        img = Image.open(f)\n",
    "        img = img.convert(\"RGB\")\n",
    "        img = img.resize((image_size, image_size))\n",
    "        data = np.asarray(img)\n",
    "        X.append(data)\n",
    "        Y.append(idx)\n",
    "\n",
    "X = np.array(X)\n",
    "Y = np.array(Y)\n",
    "\n",
    "# split the testing data and the training data - (3)\n",
    "X_train, X_test, Y_train, Y_test = \\\n",
    "    train_test_split(X, Y)\n",
    "\n",
    "xy = (X_train, X_test, Y_train, Y_test)\n",
    "np.save(\"./image/check_test.npy\", xy)\n",
    "print(\"end\", len(Y))\n"
   ]
  },
  {
   "cell_type": "code",
   "execution_count": 5,
   "metadata": {},
   "outputs": [],
   "source": [
    "from keras.models import Sequential\n",
    "from keras.layers import Convolution2D, MaxPooling2D\n",
    "from keras.layers import Activation, Dropout, Flatten, Dense\n",
    "from keras.utils import np_utils\n",
    "\n",
    "import numpy as np\n",
    "\n",
    "root_dir = \"./image/\"\n",
    "categories = [\"meat\", \"noodle\", \"cat\", \"flower\"]\n",
    "nb_classes = len(categories)\n",
    "image_size = 50"
   ]
  },
  {
   "cell_type": "code",
   "execution_count": 6,
   "metadata": {},
   "outputs": [],
   "source": [
    "# download data\n",
    "def main():\n",
    "    X_train, X_test, Y_train, Y_test = np.load(\"./image/check_test.npy\")\n",
    "    X_train = X_train.astype(\"float\") / 256\n",
    "    X_test = X_test.astype(\"float\") / 256\n",
    "    Y_train = np_utils.to_categorical(Y_train, nb_classes)\n",
    "    Y_test = np_utils.to_categorical(Y_test, nb_classes)\n",
    "    \n",
    "    model = model_train(X_train, Y_train)\n",
    "    model_eval(model, X_test, Y_test)"
   ]
  },
  {
   "cell_type": "code",
   "execution_count": 7,
   "metadata": {},
   "outputs": [],
   "source": [
    "# build model\n",
    "def build_model(in_shape):\n",
    "    model = Sequential()\n",
    "    model.add(Convolution2D(32, 3, 3, border_mode='same', input_shape=in_shape))\n",
    "    model.add(Activation('relu'))\n",
    "    model.add(MaxPooling2D(pool_size=(2, 2)))\n",
    "    model.add(Dropout(0.25))\n",
    "    model.add(Convolution2D(64, 3, 3, border_mode='same'))\n",
    "    model.add(Activation('relu'))\n",
    "    model.add(Convolution2D(64, 3, 3))\n",
    "    model.add(MaxPooling2D(pool_size=(2, 2)))\n",
    "    model.add(Dropout(0.25))\n",
    "    model.add(Flatten())\n",
    "    model.add(Dense(512))\n",
    "    model.add(Activation('relu'))\n",
    "    model.add(Dropout(0.5))\n",
    "    model.add(Dense(nb_classes))\n",
    "    model.add(Activation('softmax'))\n",
    "    \n",
    "    model.compile(loss='binary_crossentropy', \n",
    "                  optimizer='rmsprop', metrics=['accuracy'])\n",
    "    \n",
    "    return model"
   ]
  },
  {
   "cell_type": "code",
   "execution_count": 8,
   "metadata": {},
   "outputs": [],
   "source": [
    "# model training\n",
    "def model_train(X, Y):\n",
    "    model = build_model(X.shape[1:])\n",
    "    model.fit(X, Y, batch_size=32, nb_epoch=30)\n",
    "    \n",
    "    hdf5_file = \"./image/model.hdf5\"\n",
    "    model.save_weights(hdf5_file)\n",
    "    return model"
   ]
  },
  {
   "cell_type": "code",
   "execution_count": 9,
   "metadata": {},
   "outputs": [],
   "source": [
    "# evaluate model\n",
    "def model_eval(model, X, Y):\n",
    "    score = model.evaluate(X, Y)\n",
    "    print(\"loss =\", score[0])\n",
    "    print(\"accuracy =\", score[1])"
   ]
  },
  {
   "cell_type": "code",
   "execution_count": 10,
   "metadata": {},
   "outputs": [
    {
     "name": "stderr",
     "output_type": "stream",
     "text": [
      "C:\\Users\\kjv45\\anaconda3\\lib\\site-packages\\ipykernel_launcher.py:3: UserWarning: Update your `Conv2D` call to the Keras 2 API: `Conv2D(32, (3, 3), input_shape=(50, 50, 3..., padding=\"same\")`\n",
      "  This is separate from the ipykernel package so we can avoid doing imports until\n",
      "C:\\Users\\kjv45\\anaconda3\\lib\\site-packages\\ipykernel_launcher.py:7: UserWarning: Update your `Conv2D` call to the Keras 2 API: `Conv2D(64, (3, 3), padding=\"same\")`\n",
      "  import sys\n",
      "C:\\Users\\kjv45\\anaconda3\\lib\\site-packages\\ipykernel_launcher.py:9: UserWarning: Update your `Conv2D` call to the Keras 2 API: `Conv2D(64, (3, 3))`\n",
      "  if __name__ == '__main__':\n",
      "C:\\Users\\kjv45\\anaconda3\\lib\\site-packages\\ipykernel_launcher.py:3: UserWarning: The `nb_epoch` argument in `fit` has been renamed `epochs`.\n",
      "  This is separate from the ipykernel package so we can avoid doing imports until\n"
     ]
    },
    {
     "name": "stdout",
     "output_type": "stream",
     "text": [
      "Epoch 1/30\n",
      "1500/1500 [==============================] - 8s 5ms/step - loss: 0.7157 - accuracy: 0.7347\n",
      "Epoch 2/30\n",
      "1500/1500 [==============================] - 8s 5ms/step - loss: 0.5042 - accuracy: 0.7670\n",
      "Epoch 3/30\n",
      "1500/1500 [==============================] - 8s 5ms/step - loss: 0.4281 - accuracy: 0.8093\n",
      "Epoch 4/30\n",
      "1500/1500 [==============================] - 8s 5ms/step - loss: 0.3555 - accuracy: 0.8538\n",
      "Epoch 5/30\n",
      "1500/1500 [==============================] - 8s 5ms/step - loss: 0.2943 - accuracy: 0.8757\n",
      "Epoch 6/30\n",
      "1500/1500 [==============================] - 8s 5ms/step - loss: 0.2597 - accuracy: 0.8932\n",
      "Epoch 7/30\n",
      "1500/1500 [==============================] - 8s 5ms/step - loss: 0.2314 - accuracy: 0.9055\n",
      "Epoch 8/30\n",
      "1500/1500 [==============================] - 8s 5ms/step - loss: 0.1919 - accuracy: 0.9232\n",
      "Epoch 9/30\n",
      "1500/1500 [==============================] - 8s 5ms/step - loss: 0.1720 - accuracy: 0.9342\n",
      "Epoch 10/30\n",
      "1500/1500 [==============================] - 8s 5ms/step - loss: 0.1488 - accuracy: 0.9448\n",
      "Epoch 11/30\n",
      "1500/1500 [==============================] - 8s 5ms/step - loss: 0.1275 - accuracy: 0.9530\n",
      "Epoch 12/30\n",
      "1500/1500 [==============================] - 8s 5ms/step - loss: 0.1010 - accuracy: 0.9625\n",
      "Epoch 13/30\n",
      "1500/1500 [==============================] - 8s 5ms/step - loss: 0.0879 - accuracy: 0.9677\n",
      "Epoch 14/30\n",
      "1500/1500 [==============================] - 8s 5ms/step - loss: 0.0879 - accuracy: 0.9698\n",
      "Epoch 15/30\n",
      "1500/1500 [==============================] - 8s 5ms/step - loss: 0.0602 - accuracy: 0.9807\n",
      "Epoch 16/30\n",
      "1500/1500 [==============================] - 8s 5ms/step - loss: 0.0733 - accuracy: 0.9745\n",
      "Epoch 17/30\n",
      "1500/1500 [==============================] - 8s 5ms/step - loss: 0.0396 - accuracy: 0.9863\n",
      "Epoch 18/30\n",
      "1500/1500 [==============================] - 8s 5ms/step - loss: 0.0551 - accuracy: 0.9852\n",
      "Epoch 19/30\n",
      "1500/1500 [==============================] - 8s 5ms/step - loss: 0.0475 - accuracy: 0.9837\n",
      "Epoch 20/30\n",
      "1500/1500 [==============================] - 8s 5ms/step - loss: 0.0301 - accuracy: 0.9893\n",
      "Epoch 21/30\n",
      "1500/1500 [==============================] - 8s 5ms/step - loss: 0.0354 - accuracy: 0.9892\n",
      "Epoch 22/30\n",
      "1500/1500 [==============================] - 8s 5ms/step - loss: 0.0276 - accuracy: 0.9905\n",
      "Epoch 23/30\n",
      "1500/1500 [==============================] - 8s 5ms/step - loss: 0.0161 - accuracy: 0.9948\n",
      "Epoch 24/30\n",
      "1500/1500 [==============================] - 8s 5ms/step - loss: 0.0364 - accuracy: 0.9915\n",
      "Epoch 25/30\n",
      "1500/1500 [==============================] - 8s 5ms/step - loss: 0.0289 - accuracy: 0.9912\n",
      "Epoch 26/30\n",
      "1500/1500 [==============================] - 8s 5ms/step - loss: 0.0302 - accuracy: 0.9912\n",
      "Epoch 27/30\n",
      "1500/1500 [==============================] - 8s 5ms/step - loss: 0.0322 - accuracy: 0.9905\n",
      "Epoch 28/30\n",
      "1500/1500 [==============================] - 8s 5ms/step - loss: 0.0252 - accuracy: 0.9928\n",
      "Epoch 29/30\n",
      "1500/1500 [==============================] - 8s 5ms/step - loss: 0.0254 - accuracy: 0.9912\n",
      "Epoch 30/30\n",
      "1500/1500 [==============================] - 8s 5ms/step - loss: 0.0284 - accuracy: 0.9900\n",
      "501/501 [==============================] - 1s 1ms/step\n",
      "loss = 0.6719596949879995\n",
      "accuracy = 0.8812375068664551\n"
     ]
    }
   ],
   "source": [
    "if __name__ == \"__main__\":\n",
    "    main()"
   ]
  },
  {
   "cell_type": "code",
   "execution_count": 47,
   "metadata": {},
   "outputs": [
    {
     "name": "stderr",
     "output_type": "stream",
     "text": [
      "C:\\Users\\kjv45\\anaconda3\\lib\\site-packages\\ipykernel_launcher.py:3: UserWarning: Update your `Conv2D` call to the Keras 2 API: `Conv2D(32, (3, 3), input_shape=(50, 50, 3..., padding=\"same\")`\n",
      "  This is separate from the ipykernel package so we can avoid doing imports until\n",
      "C:\\Users\\kjv45\\anaconda3\\lib\\site-packages\\ipykernel_launcher.py:7: UserWarning: Update your `Conv2D` call to the Keras 2 API: `Conv2D(64, (3, 3), padding=\"same\")`\n",
      "  import sys\n",
      "C:\\Users\\kjv45\\anaconda3\\lib\\site-packages\\ipykernel_launcher.py:9: UserWarning: Update your `Conv2D` call to the Keras 2 API: `Conv2D(64, (3, 3))`\n",
      "  if __name__ == '__main__':\n"
     ]
    },
    {
     "name": "stdout",
     "output_type": "stream",
     "text": [
      "file name: sample_cat.jpg\n",
      "categories: flower\n",
      "file name: sample_flower.jpg\n",
      "categories: flower\n",
      "file name: sample_meat.jpg\n",
      "categories: meat\n",
      "file name: sample_noodle.jpg\n",
      "categories: noodle\n"
     ]
    }
   ],
   "source": [
    "from PIL import Image\n",
    "import os, glob\n",
    "\n",
    "\n",
    "image_size = 50\n",
    "categories = [\"meat\", \"noodle\", \"cat\", \"flower\"]\n",
    "\n",
    "\n",
    "# read smaple image\n",
    "X = []\n",
    "files = []\n",
    "sample = [\"sample_cat.jpg\", \"sample_flower.jpg\", \"sample_meat.jpg\", \"sample_noodle.jpg\"]\n",
    "\n",
    "for fname in sample:\n",
    "    img = Image.open(fname)\n",
    "    img = img.convert(\"RGB\")\n",
    "    img = img.resize((image_size, image_size))\n",
    "    in_data = np.asarray(img)\n",
    "    X.append(in_data)\n",
    "    files.append(fname)\n",
    "X = np.array(X)\n",
    "\n",
    "\n",
    "model = build_model(X.shape[1:])\n",
    "model.load_weights(\"./image/model.hdf5\")\n",
    "\n",
    "html = \"\"\n",
    "pre = model.predict(X)\n",
    "for i, p in enumerate(pre):\n",
    "    y = p.argmax()\n",
    "    print(\"file name:\", files[i])\n",
    "    print(\"categories:\", categories[y])\n",
    "    html += \"\"\"\n",
    "        <h3>file name: {0}</h3>\n",
    "        <div>\n",
    "            <p><img src=\"{1}\" width=300></p>\n",
    "            <p>categories: {2}\n",
    "        </div>\n",
    "            \"\"\".format(os.path.basename(files[i]), files[i], categories[y])\n",
    "\n",
    "html = \"<html><body style='text-align:center;'>\" + \\\n",
    "    \"<style> p { margin:0; padding:0; } </style>\" + \\\n",
    "    html + \"</body></html>\"\n",
    "\n",
    "with open(\"result.html\", \"w\") as f:\n",
    "    f.write(html)"
   ]
  },
  {
   "cell_type": "code",
   "execution_count": null,
   "metadata": {},
   "outputs": [],
   "source": []
  }
 ],
 "metadata": {
  "kernelspec": {
   "display_name": "Python 3",
   "language": "python",
   "name": "python3"
  },
  "language_info": {
   "codemirror_mode": {
    "name": "ipython",
    "version": 3
   },
   "file_extension": ".py",
   "mimetype": "text/x-python",
   "name": "python",
   "nbconvert_exporter": "python",
   "pygments_lexer": "ipython3",
   "version": "3.7.1"
  }
 },
 "nbformat": 4,
 "nbformat_minor": 4
}
